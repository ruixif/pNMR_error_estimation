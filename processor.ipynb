{
 "cells": [
  {
   "cell_type": "code",
   "execution_count": 318,
   "metadata": {},
   "outputs": [],
   "source": [
    "import seaborn\n",
    "import pandas as pd\n",
    "import itertools\n",
    "import numpy as np\n",
    "from matplotlib import pyplot as plt\n",
    "import re"
   ]
  },
  {
   "cell_type": "code",
   "execution_count": 454,
   "metadata": {},
   "outputs": [],
   "source": [
    "def four_element_parser(line):\n",
    "    \n",
    "    count = int(line.split()[0])\n",
    "    origin_x, origin_y, origin_z = [float(each) for each in line.split()[1:4]]\n",
    "    \n",
    "    return count, origin_x, origin_y, origin_z\n",
    "\n",
    "def atom_parser(line):\n",
    "    \n",
    "    count = int(line.split()[0])\n",
    "    origin_x, origin_y, origin_z = [float(each) for each in line.split()[2:5]]\n",
    "    \n",
    "    return count, origin_x, origin_y, origin_z\n",
    "    \n",
    "    \n",
    "\n",
    "def read_cube(filename):\n",
    "    with open(filename) as fptr:\n",
    "        filecontent = fptr.readlines()\n",
    "    \n",
    "    #obtain constants\n",
    "    title = \" \".join(filecontent[0:2])\n",
    "    atom_count, origin_x, origin_y, origin_z = four_element_parser(filecontent[2])\n",
    "    \n",
    "    voxel_X_count, X_d1, X_d2, X_d3 = four_element_parser(filecontent[3])\n",
    "    voxel_Y_count, Y_d1, Y_d2, Y_d3 = four_element_parser(filecontent[4])\n",
    "    voxel_Z_count, Z_d1, Z_d2, Z_d3 = four_element_parser(filecontent[5])\n",
    "    \n",
    "    ## tuple format: (atomic number, x, y, z)\n",
    "    atom_list = []\n",
    "    for atom_line in filecontent[6:6+atom_count]:\n",
    "        atom_list.append(atom_parser(atom_line))\n",
    "      \n",
    "    \n",
    "    ## parsing density\n",
    "    LINEBREAK= int(voxel_Z_count / 6) + 1\n",
    "    print(LINEBREAK)\n",
    "    \n",
    "    \n",
    "    density = []\n",
    "    newline = []\n",
    "    for i,line in enumerate(filecontent[6+atom_count:]):\n",
    "        newline += map(float, line.split())\n",
    "        if (i % LINEBREAK == LINEBREAK-1):\n",
    "            density.append(newline)\n",
    "            newline = []\n",
    "\n",
    "    spatial_density = []\n",
    "    newline = []\n",
    "    \n",
    "    for i,Z_line in enumerate(density):\n",
    "        newline.append(Z_line)\n",
    " \n",
    "        if (i % voxel_Y_count == voxel_Y_count-1):\n",
    "            spatial_density.append(newline)\n",
    "            newline = []\n",
    "\n",
    "    origin = (origin_x, origin_y, origin_z)\n",
    "    Xd = (X_d1, X_d2, X_d3)\n",
    "    Yd = (Y_d1, Y_d2, Y_d3)\n",
    "    Zd = (Z_d1, Z_d2, Z_d3)\n",
    "    \n",
    "    return origin, Xd, Yd, Zd, atom_list, np.array(spatial_density)\n",
    "\n",
    "\n",
    "\n",
    "def compute_density(density, coordinate, radius, sphere=False):\n",
    "    xC,yC,zC=coordinate\n",
    "    \n",
    "    densitylist = []\n",
    "    for x in range(-radius+xC, radius+1+xC):\n",
    "        for y in range(-radius+yC, radius+1+yC):\n",
    "            for z in range(-radius+zC, radius+1+zC):\n",
    "                if not sphere:\n",
    "                    densitylist.append(density[x,y,z])\n",
    "                elif ((x-xC)**2 + (y-yC)**2 + (z-zC)**2 <= radius*radius):\n",
    "                    densitylist.append(density[x,y,z])\n",
    "                    \n",
    "    return densitylist\n",
    "    \n",
    "    "
   ]
  },
  {
   "cell_type": "code",
   "execution_count": 490,
   "metadata": {},
   "outputs": [
    {
     "name": "stdout",
     "output_type": "stream",
     "text": [
      "22\n"
     ]
    }
   ],
   "source": [
    "project_name=\"Fe_MePy2tacn_CH3CN_OTf_2_nmr\"\n",
    "origin, Xd, Yd, Zd, atoms, density = read_cube(project_name + \".cube\")"
   ]
  },
  {
   "cell_type": "code",
   "execution_count": 478,
   "metadata": {},
   "outputs": [
    {
     "data": {
      "text/plain": [
       "53.343853967598"
      ]
     },
     "execution_count": 478,
     "metadata": {},
     "output_type": "execute_result"
    }
   ],
   "source": [
    "np.sum(density)"
   ]
  },
  {
   "cell_type": "code",
   "execution_count": 491,
   "metadata": {},
   "outputs": [],
   "source": [
    "def output_spinden(density, atom_list, radius):\n",
    "    density_list = []\n",
    "    for each in atom_list:\n",
    "        atom_num, x, y, z = atoms[each-1]\n",
    "        relative_xyz = np.linalg.solve(np.array([Xd, Yd, Zd]), np.subtract((x,y,z), origin))\n",
    "        \n",
    "        density_list.append(compute_density(density, \n",
    "                                            (int(relative_xyz[0]), int(relative_xyz[1]), int(relative_xyz[2])), \n",
    "                                                 radius=radius, sphere=True))\n",
    "    return density_list\n",
    "\n",
    "def read_log(filename, index, inputlist):\n",
    "    log_density_list = []\n",
    "    #dirty trick to obtain the atom's Fermi contact table\n",
    "    with open(filename) as fptr:\n",
    "        fermi_flag=False\n",
    "        i=0\n",
    "        for line in fptr:\n",
    "            if (\"Fermi\" not in line) and (fermi_flag is False):\n",
    "                continue\n",
    "            elif (fermi_flag is False):\n",
    "                fermi_flag=True\n",
    "                fptr.readline()\n",
    "                continue\n",
    "                \n",
    "                \n",
    "            if (fermi_flag is True) and (len(line.split())==6):\n",
    "                if int(line.split()[0]) in inputlist:\n",
    "                    log_density_list.append(float(line.split()[index]))\n",
    "            else:\n",
    "                fermi_flag = False\n",
    "    \n",
    "    return np.array(log_density_list).flatten()\n",
    "        \n",
    "def obtain_target(atomic_number, atoms):\n",
    "    target_atoms=[]\n",
    "    #order number of target atoms, start from 1\n",
    "    \n",
    "    for i, each in enumerate(atoms):\n",
    "        if (each[0] == atomic_number):\n",
    "            target_atoms.append(i+1)\n",
    "    \n",
    "    return target_atoms\n",
    "    "
   ]
  },
  {
   "cell_type": "code",
   "execution_count": 499,
   "metadata": {},
   "outputs": [
    {
     "data": {
      "text/plain": [
       "Text(0, 0.5, 'averaged density')"
      ]
     },
     "execution_count": 499,
     "metadata": {},
     "output_type": "execute_result"
    },
    {
     "data": {
      "image/png": "[encoded data removed]",
      "text/plain": [
       "<Figure size 720x720 with 1 Axes>"
      ]
     },
     "metadata": {},
     "output_type": "display_data"
    }
   ],
   "source": [
    "##proton list for n4py\n",
    "# H_list=[5,8,10,12,14,17,18,21,23,25,27,31,33,35,37,40,41,44,46,48,50]\n",
    "H_list=obtain_target(atomic_number=1, atoms=atoms)\n",
    "H_list.remove(27)\n",
    "\n",
    "chk_density = np.array(output_spinden(density, H_list, radius=1))\n",
    "log_density =read_log(project_name + \".gjf.log\", index=2, inputlist=H_list)\n",
    "# chk_density.shape\n",
    "plt.gcf().set_size_inches(10, 10)\n",
    "\n",
    "plt.errorbar(log_density, np.mean(chk_density, axis=1), yerr=np.std(chk_density,axis=1), \n",
    "             ls='none', marker='s', markersize=3, elinewidth=2)\n",
    "plt.xlabel(\"log file density\")\n",
    "plt.ylabel(\"averaged density\")\n"
   ]
  },
  {
   "cell_type": "code",
   "execution_count": 500,
   "metadata": {},
   "outputs": [
    {
     "data": {
      "text/plain": [
       "array([1.29073283])"
      ]
     },
     "execution_count": 500,
     "metadata": {},
     "output_type": "execute_result"
    }
   ],
   "source": [
    "from sklearn.linear_model import LinearRegression\n",
    "\n",
    "reg = LinearRegression().fit(np.mean(chk_density,axis=1).reshape(-1,1), log_density)\n",
    "reg.coef_\n",
    "# reg.intercept_ "
   ]
  }
 ],
 "metadata": {
  "kernelspec": {
   "display_name": "Python 3",
   "language": "python",
   "name": "python3"
  },
  "language_info": {
   "codemirror_mode": {
    "name": "ipython",
    "version": 3
   },
   "file_extension": ".py",
   "mimetype": "text/x-python",
   "name": "python",
   "nbconvert_exporter": "python",
   "pygments_lexer": "ipython3",
   "version": "3.6.5"
  }
 },
 "nbformat": 4,
 "nbformat_minor": 2
}
